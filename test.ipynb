{
 "cells": [
  {
   "cell_type": "code",
   "execution_count": 23,
   "metadata": {},
   "outputs": [
    {
     "data": {
      "text/plain": [
       "'{ _vì vậy Nguyễn Hưng ='"
      ]
     },
     "execution_count": 23,
     "metadata": {},
     "output_type": "execute_result"
    }
   ],
   "source": [
    "def remove_stopwords(input_string):\n",
    "    with open ('stopwords.txt',mode='r',encoding='utf-8') as f:\n",
    "        stopwords=f.read().split()\n",
    "    for i in range(len(stopwords)):\n",
    "        input_string=input_string.replace(stopwords[i],'')\n",
    "        input_string=input_string.strip()\n",
    "        return input_string\n",
    "\n",
    "input_string=(\"{ _vì vậy Nguyễn Hưng =\")\n",
    "output=remove_stopwords(input_string)\n",
    "output"
   ]
  },
  {
   "cell_type": "code",
   "execution_count": 1,
   "metadata": {},
   "outputs": [
    {
     "data": {
      "text/plain": [
       "'Hưng nguyên'"
      ]
     },
     "execution_count": 1,
     "metadata": {},
     "output_type": "execute_result"
    }
   ],
   "source": [
    "string =\"Hưng nguyên\"\n",
    "string=string.replace('hưng','')\n",
    "string"
   ]
  }
 ],
 "metadata": {
  "interpreter": {
   "hash": "5e2ba9950a3a6e78914263b467301b3d30d9c66cc5715c9632891fccc36a67fe"
  },
  "kernelspec": {
   "display_name": "Python 3.7.10 64-bit ('plagiarism': conda)",
   "name": "python3"
  },
  "language_info": {
   "codemirror_mode": {
    "name": "ipython",
    "version": 3
   },
   "file_extension": ".py",
   "mimetype": "text/x-python",
   "name": "python",
   "nbconvert_exporter": "python",
   "pygments_lexer": "ipython3",
   "version": "3.7.10"
  },
  "orig_nbformat": 4
 },
 "nbformat": 4,
 "nbformat_minor": 2
}
